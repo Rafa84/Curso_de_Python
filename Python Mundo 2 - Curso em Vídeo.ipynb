{
 "cells": [
  {
   "cell_type": "markdown",
   "id": "3efb9b19",
   "metadata": {},
   "source": [
    "## Exercicios de Python do Mundo 02 - Curso em Vídeo"
   ]
  },
  {
   "cell_type": "markdown",
   "id": "b2158f04",
   "metadata": {},
   "source": [
    "### Exercicio Python 36 \n",
    "Escreva um programa para aprovar o empréstimo bancário para a compra de uma casa.\n",
    "Pergunte o valor da casa, o salário do comprador e em quantos anos ele vai pagar.\n",
    "A prestação mensal não pode exceder 30% do salário ou então o empréstimo será negado."
   ]
  },
  {
   "cell_type": "code",
   "execution_count": null,
   "id": "3782fe73",
   "metadata": {},
   "outputs": [],
   "source": [
    "fin = float(input(\"Informe o valor do imóvel a ser financiado: R$\"))\n",
    "an = int(input(\"Em quantos anos o comprador deseja financiar o imóvel: \"))\n",
    "sal = float(input(\"Informe o salário do comprador: \"))\n",
    "parc = fin/(an*12)\n",
    "if parc >=(sal*0.3):\n",
    "    print(\"Infelizmente o financiamento foi negado. \\nA parcela do financiamento R${:.2f} compromete {:.1f}% do seu salário.\".format(parc,(parc/sal*100)))\n",
    "else:\n",
    "    print(\"Seu financiamento foi liberado, a parcela do imóvel ficou em R${:.2f}\".format(parc))"
   ]
  },
  {
   "cell_type": "markdown",
   "id": "1ca29b76",
   "metadata": {},
   "source": [
    "### Exercício Python 037\n",
    "Escreva um programa em Python que leia um número inteiro qualquer e \n",
    "peça para o usuário escolher qual será a base de conversão\n",
    "1 para binário, 2 para octal e 3 para hexadecimal."
   ]
  },
  {
   "cell_type": "code",
   "execution_count": null,
   "id": "2888451e",
   "metadata": {},
   "outputs": [],
   "source": [
    "x = int(input(\"Informe o valor que deseja converter: \"))\n",
    "esc = int(input(\"Escolha a base numérica:\\n[1] - Binário\\n[2] - Octal\\n[3] - Hexadecimal\\nInforme a opção escolhida: \"))\n",
    "if esc == 1:\n",
    "    print(\"O valor informado na base binária equivale a: {}\".format(bin(x)[2:]))\n",
    "elif esc ==2:\n",
    "    print(\"O valor informado na base octal equivale a: {}\".format(oct(x)[2:]))\n",
    "elif esc ==3:\n",
    "    print(\"O valor informado na base binária equivale a: {}\".format(hex(x)[2:]))\n",
    "else:\n",
    "    print(\"Opção inválida\")"
   ]
  },
  {
   "cell_type": "markdown",
   "id": "aefa4dd9",
   "metadata": {},
   "source": [
    "### Exercício Python 038\n",
    "Escreva um programa que leia dois números inteiros e compare-os. mostrando na tela uma mensagem:\n",
    "- O primeiro valor é maior\n",
    "- O segundo valor é maior\n",
    "- Não existe valor maior, os dois são iguais"
   ]
  },
  {
   "cell_type": "code",
   "execution_count": null,
   "id": "96d7be81",
   "metadata": {},
   "outputs": [],
   "source": [
    "pri = int(input(\"Digite um valor qualquer: \"))\n",
    "seg = int(input(\"Digite outro valor qualquer: \"))\n",
    "if pri>seg:\n",
    "    print(\"O primeiro valor é maior\")\n",
    "elif seg>pri:\n",
    "    print(\"O segundo valor é maior\")\n",
    "else:\n",
    "    print(\"Os dois valores são iguais, não há valor maior\")"
   ]
  },
  {
   "cell_type": "markdown",
   "id": "d046a3fc",
   "metadata": {},
   "source": [
    "### Exercício Python 039\n",
    "Faça um programa que leia o ano de nascimento de um jovem e informe,\n",
    "de acordo com a sua idade, se ele ainda vai se alistar ao serviço militar, se é a hora exata de se alistar ou\n",
    "se já passou do tempo do alistamento. Seu programa também deverá mostrar o tempo que falta ou que passou do prazo."
   ]
  },
  {
   "cell_type": "code",
   "execution_count": null,
   "id": "dbfcf04d",
   "metadata": {},
   "outputs": [],
   "source": [
    "import datetime\n",
    "ano = int(input(\"Informe o ano do seu nascimento: \"))\n",
    "hoje = datetime.date.today().year\n",
    "print(\"Quem nasceu em {} tem/terá {} em {}.\".format(ano, hoje-ano,hoje))\n",
    "if hoje-ano <18:\n",
    "    print(\"Ainda falta(m) {} ano(s) para você se alistar.\\nSeu alistamento será no ano {}\".format(18-(hoje-ano),ano+18))\n",
    "elif hoje-ano >18:\n",
    "    print(\"Você deveria ter se alistado há {} anos.\".format((hoje-ano)-18))\n",
    "else:\n",
    "    print(\"Você deve se alistar imediatamente!\")"
   ]
  },
  {
   "cell_type": "markdown",
   "id": "f55cc3b6",
   "metadata": {},
   "source": [
    "### Exercício Python 040\n",
    "Crie um programa que leia duas notas de um aluno e calcule sua média, mostrando uma mensagem no final, de acordo com a média atingida:\n",
    "- Média abaixo de 5.0: REPROVADO"
   ]
  },
  {
   "cell_type": "code",
   "execution_count": null,
   "id": "96e9b0e7",
   "metadata": {},
   "outputs": [],
   "source": [
    "n1 = float(input(\"Digite a primeira nota: \"))\n",
    "n2 = float(input(\"Digite a segunda nota: \"))\n",
    "media = (n1+n1)/2\n",
    "print(\"Com a notas {} e {}, sua média final é: {}\".format(n1,n2,media))\n",
    "if media >=5:\n",
    "    print(\"O aluno está \\033[0;32mAprovado\\033[m!\")\n",
    "else:\n",
    "    print(\"O aluno está \\033[0;31mReprovado\\033[m!\")"
   ]
  },
  {
   "cell_type": "markdown",
   "id": "f739e5f9",
   "metadata": {},
   "source": [
    "### Exercício Python 041\n",
    "A Confederação Nacional de Natação precisa de um programa que leia o ano de nascimento de um atleta e mostre sua categoria, de acordo com a idade:\n",
    "- Até 9 anos: MIRIM\n",
    "- Até 14 anos: INFANTIL\n",
    "- Até 19 anos: JÚNIOR\n",
    "- Até 25 anos: SÊNIOR\n",
    "- Acima de 25 anos: MASTER"
   ]
  },
  {
   "cell_type": "code",
   "execution_count": null,
   "id": "97eba91a",
   "metadata": {},
   "outputs": [],
   "source": [
    "import datetime as dt\n",
    "ano = dt.date.today().year\n",
    "atleta = int(input(\"Informe o ano de nascimento do Alteta: \"))\n",
    "idade = ano-atleta\n",
    "if idade<=9:\n",
    "    print(\"O atleta tem {} anos e está na categoria \\033[1;30mMirim\\033[m\".format(idade))\n",
    "elif idade<=14:\n",
    "    print(\"O atleta tem {} anos e está na categoria \\033[1;30mInfantil\\033[m\".format(idade))\n",
    "elif idade<=19:\n",
    "    print(\"O atleta tem {} anos e está na categoria \\033[1;30mJúnior\\033[m\".format(idade))\n",
    "elif idade<=25:\n",
    "    print(\"O atleta tem {} anos e está na categoria \\033[1;30mSênior\\033[m\".format(idade))\n",
    "else:\n",
    "    print(\"O atleta tem {} anos e está na categoria \\033[1;30mMaster\\033[m\".format(idade))"
   ]
  },
  {
   "cell_type": "markdown",
   "id": "50da3a7f",
   "metadata": {},
   "source": [
    "### Exercício Python 042\n",
    "Refaça o DESAFIO 035 dos triângulos, acrescentando o recurso de mostrar que tipo de triângulo será formado:\n",
    "- EQUILÁTERO: todos os lados iguais\n",
    "- ISÓSCELES: dois lados iguais, um diferente\n",
    "- ESCALENO: todos os lados diferentes"
   ]
  },
  {
   "cell_type": "code",
   "execution_count": null,
   "id": "a1dc4e01",
   "metadata": {},
   "outputs": [],
   "source": [
    "a = float(input(\"Digite um valor para uma reta: \"))\n",
    "b = float(input(\"Digite um valor para uma reta: \"))\n",
    "c = float(input(\"Digite um valor para uma reta: \"))\n",
    "print(\"Vamos analisar....\")\n",
    "if (a+b)>c and (b+c)>a and (a+c)>b:\n",
    "    print(\"As três retas informadas: a = {}, b = {} e c = {}, \\033[1;32mformam\\033[m um triangulo!\".format(a,b,c))\n",
    "    if a==b and b==c:\n",
    "        print(\"O triângulo formado por esses segmentos é um triângulo Equilátero!\")\n",
    "    elif a!=b and b!=c:\n",
    "        print((\"O triângulo formado por esses segmentos é um triângulo Escaleno!\"))\n",
    "    else:\n",
    "        print((\"O triângulo formado por esses segmentos é um triângulo Isósceles!\"))\n",
    "else:\n",
    "    print(\"As três retas informadas: a = {}, b = {} e c = {}, \\033[1;31mnão formam\\033[m um triangulo!\".format(a,b,c))"
   ]
  },
  {
   "cell_type": "markdown",
   "id": "15249649",
   "metadata": {},
   "source": [
    "### Exercício Python 043\n",
    "Desenvolva uma lógica que leia o peso e a altura de uma pessoa, calcule seu Índice de Massa Corporal (IMC) e mostre seu status, de acordo com a tabela abaixo:\n",
    "- IMC abaixo de 18,5: Abaixo do Peso\n",
    "- Entre 18,5 e 25: Peso Ideal\n",
    "- 25 até 30: Sobrepeso\n",
    "- 30 até 40: Obesidade\n",
    "- Acima de 40: Obesidade Mórbida"
   ]
  },
  {
   "cell_type": "code",
   "execution_count": null,
   "id": "61d2c4f3",
   "metadata": {
    "scrolled": true
   },
   "outputs": [],
   "source": [
    "alt = float(input(\"Informe sua altura: \"))\n",
    "pes = float(input(\"Informe seu peso: \"))\n",
    "imc = pes/alt**2\n",
    "print(\"Seu valor de imc é {:.2f}\".format(imc))\n",
    "if imc<18.5:\n",
    "    print(\"Você está abaixo do peso!\")\n",
    "elif 18.5<=imc<25:\n",
    "    print(\"Você está com o peso ideal!\")\n",
    "elif 25<=imc<30:\n",
    "    print(\"Você está com sobrepeso!\")\n",
    "elif 30<=imc<40:\n",
    "    print(\"Você está Obeso!\")\n",
    "else:\n",
    "    print(\"Cuidado, você se enquadra em Obesidade Mórbida!\")"
   ]
  },
  {
   "cell_type": "markdown",
   "id": "2c03cae8",
   "metadata": {},
   "source": [
    "### Exercício Python 044\n",
    "Elabore um programa que calcule o valor a ser pago por um produto, considerando o seu preço normal e condição de pagamento:\n",
    "- à vista dinheiro/cheque: 10% de desconto\n",
    "- à vista no cartão: 5% de desconto\n",
    "- em até 2x no cartão: preço formal\n",
    "- 3x ou mais no cartão: 20% de juros"
   ]
  },
  {
   "cell_type": "code",
   "execution_count": null,
   "id": "37469a0c",
   "metadata": {},
   "outputs": [],
   "source": [
    "v=float(input(\"Qual o valor final da compra: R$\"))\n",
    "print(25*\"=\")\n",
    "print(\"Forma de Pagamento\".upper())\n",
    "print(25*\"=\")\n",
    "print(\"[1] à vista dinheiro/pix\\n[2] à vista cartão\\n[3] 2x cartão\\n[4] 3x ou mais\")\n",
    "print(25*\"=\")\n",
    "x=int(input(\"Escolha a forma de pagamento: \"))\n",
    "if x==1:\n",
    "        vf=v*.9\n",
    "        print(\"O valor final da compra com 10% de descontou ficou: R${:.2f}\".format(vf))\n",
    "elif x==2:\n",
    "        vf=v*.95\n",
    "        print(\"O valor final da compra com 5% de descontou ficou: R${:.2f}\".format(vf))\n",
    "elif x==3:\n",
    "        print(25*\"=\")\n",
    "        y = int(input(\"Escolha\\n[1] Á vista \\n[2] 2x \\n\"))\n",
    "        if y == 1: \n",
    "            print(\"O valor final da compra ficou: R${:.2f}\".format(v))\n",
    "        else:\n",
    "            print(\"O valor final da compra ficou em 2 parcelas de R${:.2f}\".format(v/2))\n",
    "        print(25*\"=\")\n",
    "elif x==4:\n",
    "        print(25*\"=\")\n",
    "        px=int(input(\"Escolha em quantas vezes deseja parcelar: 3x - 12x: \"))\n",
    "        vf=v*(1+0.2)**px\n",
    "        print(\"O valor final, parcelado em {}x, ficou R${:.2f}\".format(px,vf))\n",
    "        print(25*\"=\")\n",
    "else:\n",
    "        print(\"A opção escolhida é inválida!\")"
   ]
  },
  {
   "cell_type": "markdown",
   "id": "435eaa88",
   "metadata": {},
   "source": [
    "### Exercício Python 045\n",
    "Crie um programa que faça o computador jogar Jokenpô com você."
   ]
  },
  {
   "cell_type": "code",
   "execution_count": 13,
   "id": "14232f46",
   "metadata": {},
   "outputs": [
    {
     "name": "stdout",
     "output_type": "stream",
     "text": [
      "***************\n",
      "Bem vindo ao\n",
      "Jogo de JOKENPÔ\n",
      "***************\n",
      "[0]Pedra\n",
      "[1]Papel\n",
      "[2]Tesoura\n",
      "***************\n",
      "O que você escolhe: 1\n",
      "Você perdeu!\n",
      "O jogador escolheu Papel\n",
      "O computador escolheu Tesoura\n"
     ]
    }
   ],
   "source": [
    "import random\n",
    "print(\"*\"*15)\n",
    "print(\"Bem vindo ao\\nJogo de JOKENPÔ\")\n",
    "print(\"*\"*15)\n",
    "print(\"[0]Pedra\\n[1]Papel\\n[2]Tesoura\")\n",
    "print(\"*\"*15)\n",
    "vc=int(input(\"O que você escolhe: \"))\n",
    "escolha=[\"Pedra\",\"Papel\",\"Tesoura\"]\n",
    "pc=random.choice(escolha)\n",
    "if vc==0 and pc==\"Pedra\":\n",
    "    print(\"Deu empate, Vocês escolheram {}\".format(escolha[vc]))\n",
    "elif vc==1 and pc==\"Papel\":\n",
    "    print(\"Deu empate, Vocês escolheram {}\".format(escolha[vc]))\n",
    "elif vc==2 and pc==\"Tesoura\":\n",
    "    print(\"Deu empate, Vocês escolheram {}\".format(escolha[vc]))\n",
    "elif vc==0 and pc==\"Papel\":\n",
    "    print(\"Você perdeu!\\nO jogador escolheu {}\\nO computador escolheu {}\".format(escolha[vc],pc))\n",
    "elif vc==0 and pc==\"Tesoura\":\n",
    "    print(\"Você ganhou!\\nO jogador escolheu {}\\nO computador escolheu {}\".format(escolha[vc],pc))\n",
    "elif vc==1 and pc==\"Pedra\":\n",
    "    print(\"Você ganhou!\\nO jogador escolheu {}\\nO computador escolheu {}\".format(escolha[vc],pc))\n",
    "elif vc==1 and pc==\"Tesoura\":\n",
    "    print(\"Você perdeu!\\nO jogador escolheu {}\\nO computador escolheu {}\".format(escolha[vc],pc))\n",
    "else:\n",
    "    print(\"Você perdeu!\\nO jogador escolheu {}\\nO computador escolheu {}\".format(escolha[vc],pc))"
   ]
  },
  {
   "cell_type": "markdown",
   "id": "face014d",
   "metadata": {},
   "source": [
    "#### Outra opção:"
   ]
  },
  {
   "cell_type": "code",
   "execution_count": null,
   "id": "b4cc1494",
   "metadata": {},
   "outputs": [],
   "source": [
    "itens=[\"Pedra\", \"Papel\", \"Tesoura\"]\n",
    "print(\"[0]Pedra\\n[1]Papel\\n[2]Tesoura\")\n",
    "vc=int(input(\"O que você escolhe: \"))\n",
    "print(\"Você escolheu: {}\".format(itens[vc]))"
   ]
  },
  {
   "cell_type": "markdown",
   "id": "271063a0",
   "metadata": {},
   "source": [
    "### Exercício Python 046\n",
    "Faça um programa que mostre na tela uma contagem regressiva para o estouro de fogos de artifício, indo de 10 até 0, com uma pausa de 1 segundo entre eles."
   ]
  },
  {
   "cell_type": "code",
   "execution_count": null,
   "id": "b2b231b8",
   "metadata": {},
   "outputs": [],
   "source": [
    "import time\n",
    "print(\"Olha a contagem regressiva para a virada!!!\")\n",
    "for i in range(10,-1,-1):\n",
    "    print(i)\n",
    "    time.sleep(1)\n",
    "print(\"Feliz Ano Novo!!!\")\n",
    "print(\"Bum! BUM! POOOOW\")"
   ]
  },
  {
   "cell_type": "markdown",
   "id": "967cb9bf",
   "metadata": {},
   "source": [
    "### Exercício Python 047\n",
    "Crie um programa que mostre na tela todos os números pares que estão no intervalo entre 1 e 50."
   ]
  },
  {
   "cell_type": "code",
   "execution_count": null,
   "id": "aa6e8451",
   "metadata": {},
   "outputs": [],
   "source": [
    "for par in range(0,51,2):\n",
    "    print(par)\n",
    "print(\"Acabou\")"
   ]
  },
  {
   "cell_type": "markdown",
   "id": "f07be81e",
   "metadata": {},
   "source": [
    "### Exercício Python 048\n",
    "Faça um programa que calcule a soma entre todos os números impares que são múltiplos de três e que se encontram no intervalo de 1 até 500."
   ]
  },
  {
   "cell_type": "code",
   "execution_count": null,
   "id": "a0154b57",
   "metadata": {},
   "outputs": [],
   "source": [
    "soma = 0\n",
    "total = 0\n",
    "for impar in range(1,501,2):\n",
    "    if impar%3==0:\n",
    "        soma+=impar\n",
    "        total+=1\n",
    "print(f\"A soma dos números multiplos de três é {soma} e temos {total} números.\")"
   ]
  },
  {
   "cell_type": "markdown",
   "id": "427ba7b2",
   "metadata": {},
   "source": [
    "### Exercício Python 049\n",
    "Refaça o DESAFIO 009, mostrando a tabuada de um número que o usuário escolher, só que agora utilizando um laço for."
   ]
  },
  {
   "cell_type": "code",
   "execution_count": null,
   "id": "98efb603",
   "metadata": {},
   "outputs": [],
   "source": [
    "x = int(input(\"Escolha um número para ver a sua tabuada: \"))\n",
    "for i in range(0,11):\n",
    "    print(f\"{x:2} x {i:2} = {x*i:2}\")"
   ]
  },
  {
   "cell_type": "markdown",
   "id": "04bc7a0b",
   "metadata": {},
   "source": [
    "### Exercício Python 050\n",
    "Desenvolva um programa que leia seis números inteiros e mostre a soma apenas daqueles que forem pares. Se o valor digitado for ímpar, desconsidere-o."
   ]
  },
  {
   "cell_type": "code",
   "execution_count": null,
   "id": "ea346679",
   "metadata": {},
   "outputs": [],
   "source": [
    "print(\"Vou precisar da tua ajuda, escolha 6 números inteiros\")\n",
    "lista=[\"primeiro\", \"segundo\", \"terceiro\", \"quarto\", \"quinto\", \"sexto\"]\n",
    "soma = 0\n",
    "for i in range(0,6):\n",
    "    x = int(input(f\"Me diga o {lista[i]} número: \"))\n",
    "    if x%2==0:\n",
    "        soma+=x\n",
    "print(f\"A soma dos números informados é {soma}\")\n"
   ]
  },
  {
   "cell_type": "markdown",
   "id": "f0d5238f",
   "metadata": {},
   "source": [
    "### Exercício Python 051\n",
    "Desenvolva um programa que leia o primeiro termo e a razão de uma PA. No final, mostre os 10 primeiros termos dessa progressão."
   ]
  },
  {
   "cell_type": "code",
   "execution_count": null,
   "id": "6a1fd19a",
   "metadata": {},
   "outputs": [],
   "source": [
    "a = int(input(\"Informe o primeiro termo: \"))\n",
    "b = int(input(\"Informe a razão: \"))\n",
    "for i in range(1,11):\n",
    "    c = a+(i-1)*b\n",
    "    print(c)\n",
    "print(\"Acabou\") "
   ]
  },
  {
   "cell_type": "markdown",
   "id": "4523ca8f",
   "metadata": {},
   "source": [
    "### Exercício Python 052\n",
    "Faça um programa que leia um número inteiro e diga se ele é ou não um número primo.\n"
   ]
  },
  {
   "cell_type": "code",
   "execution_count": null,
   "id": "2d51def1",
   "metadata": {},
   "outputs": [],
   "source": [
    "list_primo = 0\n",
    "a = int(input(\"Informe um número: \"))\n",
    "for b in range(1, a+1):\n",
    "    if a%b==0:\n",
    "        list_primo +=1\n",
    "if list_primo ==2:\n",
    "        print(f\"O número {a} é um número primo.\")\n",
    "else:\n",
    "        print(f\"O número {a} não é primo. Ele foi divisível por {list_primo} números.\")\n"
   ]
  },
  {
   "cell_type": "markdown",
   "id": "ce2fa103",
   "metadata": {},
   "source": [
    "### Exercício Python 053\n",
    "Crie um programa que leia uma frase qualquer e diga se ela é um palíndromo, desconsiderando os espaços."
   ]
  },
  {
   "cell_type": "code",
   "execution_count": null,
   "id": "d3de8a49",
   "metadata": {},
   "outputs": [],
   "source": [
    "frase = str(input(\"Digite uma frase: \")).lower().strip()\n",
    "frase = frase.replace(\" \",\"\")\n",
    "frase_inv=\"\"\n",
    "for ch in range(len(frase)-1,-1,-1):\n",
    "    frase_inv += frase[ch]\n",
    "print(frase,frase_inv)"
   ]
  },
  {
   "cell_type": "markdown",
   "id": "23e370e6",
   "metadata": {},
   "source": [
    "### Exercício Python 054\n",
    "Crie um programa que leia o ano de nascimento de sete pessoas. No final, mostre quantas pessoas ainda não atingiram a maioridade e quantas já são maiores."
   ]
  },
  {
   "cell_type": "code",
   "execution_count": null,
   "id": "5b1b88a5",
   "metadata": {},
   "outputs": [],
   "source": [
    "import datetime as dt\n",
    "ano = dt.date.today().year\n",
    "maior =0\n",
    "menor =0\n",
    "for a in range(1,8):\n",
    "    p=int(input(\"Informe o ano de nascimento da {}° pessoa: \".format(a)))\n",
    "    if ano-p >=21:\n",
    "        maior+=1\n",
    "    else:\n",
    "        menor+=1\n",
    "print(f\"Nesse grupo temos {maior} pessoa(s) maiores de idade.\\nE temos {menor} pessoa(s) menores de idade.\")"
   ]
  },
  {
   "cell_type": "markdown",
   "id": "86f20d7b",
   "metadata": {},
   "source": [
    "### Exercício Python 055\n",
    "Faça um programa que leia o peso de cinco pessoas. No final, mostre qual foi o maior e o menor peso lidos."
   ]
  },
  {
   "cell_type": "code",
   "execution_count": 40,
   "id": "932a4fbe",
   "metadata": {},
   "outputs": [
    {
     "name": "stdout",
     "output_type": "stream",
     "text": [
      "Informe o peso da 1° pessoa: 150\n",
      "Informe o peso da 2° pessoa: 35\n",
      "Informe o peso da 3° pessoa: 80\n",
      "Informe o peso da 4° pessoa: 65\n",
      "Informe o peso da 5° pessoa: 84\n",
      "O maior peso é 150.0 Kg.\n",
      "O menor peso é 35.0 Kg.\n"
     ]
    }
   ],
   "source": [
    "peso = []\n",
    "for a in range(1,6):\n",
    "    p=float(input(f\"Informe o peso da {a}° pessoa: \"))\n",
    "    peso.append(p)\n",
    "print(f\"O maior peso é {max(peso)} Kg.\\nO menor peso é {min(peso)} Kg.\")"
   ]
  },
  {
   "cell_type": "markdown",
   "id": "2ee339fb",
   "metadata": {},
   "source": [
    "### Exercício Python 056\n",
    "Desenvolva um programa que leia o nome, idade e sexo de 4 pessoas. No final do programa, mostre: a média de idade do grupo, qual é o nome do homem mais velho e quantas mulheres têm menos de 20 anos."
   ]
  },
  {
   "cell_type": "code",
   "execution_count": 41,
   "id": "e6fa5262",
   "metadata": {},
   "outputs": [
    {
     "name": "stdout",
     "output_type": "stream",
     "text": [
      "---------- Dados da 1° pessoa ----------\n",
      "Nome: ana\n",
      "Idade: 9\n",
      "Sexo (M/F): f\n",
      "---------- Dados da 2° pessoa ----------\n",
      "Nome: marta\n",
      "Idade: 3\n",
      "Sexo (M/F): f\n",
      "---------- Dados da 3° pessoa ----------\n",
      "Nome: carlos\n",
      "Idade: 45\n",
      "Sexo (M/F): m\n",
      "---------- Dados da 4° pessoa ----------\n",
      "Nome: ursula\n",
      "Idade: 29\n",
      "Sexo (M/F): f\n",
      "---------- Conclusão ----------\n",
      "O homem mais velho é o Sr.Carlos com 45 anos.\n",
      "No grupo tem 2 mulher(es) com menos de 20 anos e a mais nova é a Srta Marta com 3 anos.\n",
      "A média de idade do grupo é 22 anos.\n"
     ]
    }
   ],
   "source": [
    "idade=0\n",
    "hidade=0\n",
    "hnome=\"\"\n",
    "midade=200\n",
    "mnome=\"\"\n",
    "mtotal=0\n",
    "\n",
    "for a in range(1,5):\n",
    "    print(\"-\"*10,f\"Dados da {a}° pessoa\",\"-\"*10)\n",
    "    n=str(input(\"Nome: \")).strip().capitalize()\n",
    "    i=int(input(\"Idade: \"))\n",
    "    s=str(input(\"Sexo (M/F): \")).upper().strip()\n",
    "    idade+=i\n",
    "    if s==\"F\" and i<20:\n",
    "            mtotal+=1\n",
    "            if i<midade:\n",
    "                midade=i\n",
    "                mnome=n\n",
    "    if s==\"M\":\n",
    "        if i>hidade:\n",
    "            hidade=i\n",
    "            hnome=n\n",
    "            \n",
    "print(\"-\"*10,f\"Conclusão\",\"-\"*10)\n",
    "print(f\"O homem mais velho é o Sr.{hnome} com {hidade} anos.\")\n",
    "print(f\"No grupo tem {mtotal} mulher(es) com menos de 20 anos e a mais nova é a Srta {mnome} com {midade} anos.\")\n",
    "\n",
    "print(f\"A média de idade do grupo é {idade/4:.0f} anos.\")"
   ]
  },
  {
   "cell_type": "markdown",
   "id": "ea38ed60",
   "metadata": {},
   "source": [
    "### Exercício Python 057\n",
    "Faça um programa que leia o sexo de uma pessoa, mas só aceite os valores 'M' ou 'F'. Caso esteja errado, peça a digitação novamente até ter um valor correto."
   ]
  },
  {
   "cell_type": "code",
   "execution_count": 50,
   "id": "e48bac37",
   "metadata": {},
   "outputs": [
    {
     "name": "stdout",
     "output_type": "stream",
     "text": [
      "Informe seu sexo (F/M): a\n",
      "O sexo está errado.\n",
      "Informe seu sexo (F/M): b\n",
      "O sexo está errado.\n",
      "Informe seu sexo (F/M): c\n",
      "O sexo está errado.\n",
      "Informe seu sexo (F/M): d\n",
      "O sexo está errado.\n",
      "Informe seu sexo (F/M): e\n",
      "O sexo está errado.\n",
      "Informe seu sexo (F/M): f\n",
      "O sexo F foi cadastrado corretamente!\n"
     ]
    }
   ],
   "source": [
    "s=str(input(\"Informe seu sexo (F/M): \")).upper().strip()\n",
    "      \n",
    "while s not in \"MF\":\n",
    "      s=str(input(\"O sexo está errado.\\nInforme seu sexo (F/M): \")).upper().strip()\n",
    "print(f\"O sexo {s} foi cadastrado corretamente!\")"
   ]
  },
  {
   "cell_type": "markdown",
   "id": "f9662424",
   "metadata": {},
   "source": [
    "### Exercício Python 058\n",
    "Melhore o jogo do DESAFIO 028 onde o computador vai \"pensar\" em um número entre 0 e 10. Só que agora o jogador vai tentar adivinhar até acertar, mostrando no final quantos palpites foram necessários para vencer."
   ]
  },
  {
   "cell_type": "code",
   "execution_count": 54,
   "id": "ec346ef6",
   "metadata": {},
   "outputs": [
    {
     "name": "stdout",
     "output_type": "stream",
     "text": [
      "Estou pensando em um número de 1 a 10, você consegue descobrir??\n",
      "Digite um número: 8\n",
      "Rapaz... Tá ruim ai!\n",
      "O número que pensei é menor.\n",
      "Escolha outro número: 4\n",
      "Rapaz... Tá ruim ai!\n",
      "O número que pensei é maior.\n",
      "Escolha outro número: 6\n",
      "Finalmente você acertou, o número foi 6 e você só demorou 2 jogadas.\n"
     ]
    }
   ],
   "source": [
    "import random\n",
    "j=0\n",
    "x=int(input(\"Estou pensando em um número de 1 a 10, você consegue descobrir??\\nDigite um número: \"))\n",
    "n=random.randrange(1,11)\n",
    "while x!=n:\n",
    "    print(\"Rapaz... Tá ruim ai!\")\n",
    "    j+=1\n",
    "    if x<n:\n",
    "        print(\"O número que pensei é maior.\")\n",
    "        x=int(input(\"Escolha outro número: \"))\n",
    "    else:\n",
    "        print(\"O número que pensei é menor.\")\n",
    "        x=int(input(\"Escolha outro número: \"))\n",
    "print(f\"Finalmente você acertou, o número foi {n} e você só demorou {j} jogadas.\")"
   ]
  },
  {
   "cell_type": "code",
   "execution_count": null,
   "id": "400ce567",
   "metadata": {},
   "outputs": [],
   "source": []
  }
 ],
 "metadata": {
  "kernelspec": {
   "display_name": "Python 3 (ipykernel)",
   "language": "python",
   "name": "python3"
  },
  "language_info": {
   "codemirror_mode": {
    "name": "ipython",
    "version": 3
   },
   "file_extension": ".py",
   "mimetype": "text/x-python",
   "name": "python",
   "nbconvert_exporter": "python",
   "pygments_lexer": "ipython3",
   "version": "3.9.7"
  }
 },
 "nbformat": 4,
 "nbformat_minor": 5
}
